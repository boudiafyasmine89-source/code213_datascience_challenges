{
 "cells": [
  {
   "cell_type": "markdown",
   "id": "dbbd6e01",
   "metadata": {},
   "source": [
    "# Task 1 : The year in which the user will turn 100 years old\n"
   ]
  },
  {
   "cell_type": "code",
   "execution_count": null,
   "id": "d1819b5a",
   "metadata": {},
   "outputs": [
    {
     "name": "stdout",
     "output_type": "stream",
     "text": [
      "waniss, you will turn 100 years old in 2115\n"
     ]
    }
   ],
   "source": [
    "#Ask the user the name and the age:\n",
    "import datetime\n",
    "name=input(\"enter your name :\")\n",
    "age=int(input(\"enter your age :\"))\n",
    "#Calculate the number of years of the user to reache 100 years old\n",
    "age100=100-age\n",
    "#find the current year\n",
    "annee_courante = datetime.datetime.now().year\n",
    "#calculate the year in which the user will have 100 years old\n",
    "year=age100+annee_courante\n",
    "print(f\"{name}, you will turn 100 years old in {year}\")"
   ]
  },
  {
   "cell_type": "markdown",
   "id": "4b3603cf",
   "metadata": {},
   "source": [
    "# Task 2 : Guessing game one"
   ]
  },
  {
   "cell_type": "code",
   "execution_count": 7,
   "id": "08f5113a",
   "metadata": {},
   "outputs": [
    {
     "name": "stdout",
     "output_type": "stream",
     "text": [
      "you guessed too high\n",
      "the random number was 4\n",
      "the given number was 5\n"
     ]
    }
   ],
   "source": [
    "import random\n",
    "\n",
    "nb_aléa=random.randint(1,9)\n",
    "guess=int(input(\"guess the number\"))\n",
    "if guess < nb_aléa:\n",
    "        print(\"you guessed too low\")\n",
    "elif guess > nb_aléa:\n",
    "        print(\"you guessed too high\")\n",
    "else:\n",
    "        print(\"you guessed exacly\")\n",
    "\n",
    "print(f\"the random number was {nb_aléa}\")\n",
    "print(f\"the given number was {guess}\")"
   ]
  },
  {
   "cell_type": "code",
   "execution_count": 1,
   "id": "e4657d60",
   "metadata": {},
   "outputs": [
    {
     "name": "stdout",
     "output_type": "stream",
     "text": [
      "you guessed too low\n",
      "you guessed exacly\n",
      "the random number was 4\n",
      "the given number was 4\n",
      "the number of guesses is 2\n"
     ]
    }
   ],
   "source": [
    "import random\n",
    "\n",
    "nb_aléa=random.randint(1,9)\n",
    "count=0\n",
    "# keep the game going until the user enter \"exit\"\n",
    "while True:\n",
    "    guess=input(\"guess the number\")\n",
    "    if guess.lower()==(\"exit\"):\n",
    "        print(\"the game is over\")\n",
    "        break\n",
    "    guess=int(guess)\n",
    "    count+=1\n",
    "    if guess < nb_aléa:\n",
    "        print(\"you guessed too low\")\n",
    "    elif guess > nb_aléa:\n",
    "         print(\"you guessed too high\")\n",
    "    else:\n",
    "          print(\"you guessed exacly\")\n",
    "          break\n",
    "print(f\"the random number was {nb_aléa}\")\n",
    "print(f\"the given number was {guess}\")\n",
    "print(f\"the number of guesses is {count}\")"
   ]
  },
  {
   "cell_type": "markdown",
   "id": "46e2ae25",
   "metadata": {},
   "source": [
    "# Task 3 : Function that takes a list and returns its first and last elements"
   ]
  },
  {
   "cell_type": "code",
   "execution_count": null,
   "id": "966a14ef",
   "metadata": {},
   "outputs": [
    {
     "data": {
      "text/plain": [
       "(5, 60)"
      ]
     },
     "execution_count": 129,
     "metadata": {},
     "output_type": "execute_result"
    }
   ],
   "source": [
    "# write a function that takes a list and returns its first and last elements\n",
    "def first_last(list):\n",
    " return list[0],list[-1]\n",
    "first_last(list)\n"
   ]
  },
  {
   "cell_type": "code",
   "execution_count": 126,
   "id": "c132c788",
   "metadata": {},
   "outputs": [],
   "source": [
    "list=(5,10,20,30,40,50,60)"
   ]
  },
  {
   "cell_type": "markdown",
   "id": "18112dd6",
   "metadata": {},
   "source": [
    "# Task 4 : Password generator"
   ]
  },
  {
   "cell_type": "code",
   "execution_count": 6,
   "id": "ade48482",
   "metadata": {},
   "outputs": [
    {
     "data": {
      "text/plain": [
       "';#PkVs.fZ~'"
      ]
     },
     "execution_count": 6,
     "metadata": {},
     "output_type": "execute_result"
    }
   ],
   "source": [
    "import random\n",
    "import string\n",
    "\n",
    "def generate_password(length,strength):\n",
    "\n",
    "    lst=(\"password\",\"name\",\"123456\")\n",
    "    if strength.lower() == \"weak\":\n",
    "        return random.choice(lst)\n",
    "    else:\n",
    "        length=int(length)\n",
    "        characters = string.ascii_letters + string.digits + string.punctuation\n",
    "        password = ''.join(random.choice(characters) for i in range(length))\n",
    "        return password\n",
    "\n",
    "generate_password(10,\"strong\")"
   ]
  }
 ],
 "metadata": {
  "kernelspec": {
   "display_name": "Python 3",
   "language": "python",
   "name": "python3"
  },
  "language_info": {
   "codemirror_mode": {
    "name": "ipython",
    "version": 3
   },
   "file_extension": ".py",
   "mimetype": "text/x-python",
   "name": "python",
   "nbconvert_exporter": "python",
   "pygments_lexer": "ipython3",
   "version": "3.13.7"
  }
 },
 "nbformat": 4,
 "nbformat_minor": 5
}
