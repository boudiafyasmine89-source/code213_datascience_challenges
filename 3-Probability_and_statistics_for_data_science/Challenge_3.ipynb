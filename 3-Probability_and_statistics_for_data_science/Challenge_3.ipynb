{
 "cells": [
  {
   "cell_type": "markdown",
   "id": "c847ec56",
   "metadata": {},
   "source": [
    "## Weather Data Analysis Exercise\n",
    "\n",
    "### File Description\n",
    "This file contains **10 lines of weather data**, following the format below:"
   ]
  },
  {
   "cell_type": "code",
   "execution_count": 60,
   "id": "2ddc8bf8",
   "metadata": {},
   "outputs": [
    {
     "name": "stdout",
     "output_type": "stream",
     "text": [
      "['2023-11-01,15,5,0.2\\n', '2023-11-02,17,7,1.5\\n', '2023-11-03,12,3,0\\n', '2023-11-04,18,6,0.8\\n', '2023-11-05,14,4,3.2\\n', '2023-11-06,16,8,0\\n', '2023-11-07,13,2,0.5\\n', '2023-11-08,19,9,2.1\\n', '2023-11-09,11,1,0.3\\n', '2023-11-10,17,6,1.2']\n"
     ]
    }
   ],
   "source": [
    "with open (\"weather_data.txt\", 'r') as weather_data:\n",
    "    lines = weather_data.readlines()\n",
    "    print (lines)"
   ]
  },
  {
   "cell_type": "code",
   "execution_count": 25,
   "id": "c7384b47",
   "metadata": {},
   "outputs": [
    {
     "name": "stdout",
     "output_type": "stream",
     "text": [
      "['2023-11-01,15,5,0.2', '2023-11-02,17,7,1.5', '2023-11-03,12,3,0', '2023-11-04,18,6,0.8', '2023-11-05,14,4,3.2', '2023-11-06,16,8,0', '2023-11-07,13,2,0.5', '2023-11-08,19,9,2.1', '2023-11-09,11,1,0.3', '2023-11-10,17,6,1.2']\n"
     ]
    }
   ],
   "source": [
    "lines= [line.strip() for line in lines]\n",
    "print(lines)"
   ]
  },
  {
   "cell_type": "code",
   "execution_count": 30,
   "id": "3e3f4909",
   "metadata": {},
   "outputs": [
    {
     "data": {
      "text/plain": [
       "['2023-11-01', '15', '5', '0.2']"
      ]
     },
     "execution_count": 30,
     "metadata": {},
     "output_type": "execute_result"
    }
   ],
   "source": [
    "lines[0].split(\",\")"
   ]
  },
  {
   "cell_type": "code",
   "execution_count": 68,
   "id": "cc893a27",
   "metadata": {},
   "outputs": [
    {
     "name": "stdout",
     "output_type": "stream",
     "text": [
      "<class 'str'>\n"
     ]
    }
   ],
   "source": [
    "print(type(lines[0]))"
   ]
  },
  {
   "cell_type": "code",
   "execution_count": 103,
   "id": "244db3bf",
   "metadata": {},
   "outputs": [
    {
     "name": "stdout",
     "output_type": "stream",
     "text": [
      "Date:\n",
      " ['2023-11-01', '2023-11-02', '2023-11-03', '2023-11-04', '2023-11-05', '2023-11-06', '2023-11-07', '2023-11-08', '2023-11-09', '2023-11-10']\n",
      "Max temperature:\n",
      " [15.0, 17.0, 12.0, 18.0, 14.0, 16.0, 13.0, 19.0, 11.0, 17.0]\n",
      "Min temperature:\n",
      " [5.0, 7.0, 3.0, 6.0, 4.0, 8.0, 2.0, 9.0, 1.0, 6.0]\n",
      "Precipitation:\n",
      " [0.2, 1.5, 0.0, 0.8, 3.2, 0.0, 0.5, 2.1, 0.3, 1.2]\n",
      "Numbre of rainy day 8\n"
     ]
    }
   ],
   "source": [
    "Date =[]\n",
    "max_temperatures =[]\n",
    "min_temperatures = []\n",
    "precipitation = []\n",
    "Num_precipitation_days = 0\n",
    "for line in lines:\n",
    "    weather_data = line.split(\",\")\n",
    "    Date.append(weather_data[0])\n",
    "    max_temperatures.append(float(weather_data[1]))\n",
    "    min_temperatures.append(float(weather_data[2]))\n",
    "    precipitation.append(float(weather_data[3]))\n",
    "    if float(weather_data[3])>0:\n",
    "        Num_precipitation_days += 1\n",
    "\n",
    "print(\"Date:\\n\",Date)\n",
    "print(\"Max temperature:\\n\",max_temperatures)\n",
    "print(\"Min temperature:\\n\",min_temperatures)\n",
    "print(\"Precipitation:\\n\",precipitation)\n",
    "print(\"Numbre of rainy day\", Num_precipitation_days)"
   ]
  },
  {
   "cell_type": "code",
   "execution_count": 123,
   "id": "9258eb3e",
   "metadata": {},
   "outputs": [
    {
     "ename": "ZeroDivisionError",
     "evalue": "division by zero",
     "output_type": "error",
     "traceback": [
      "\u001b[31m---------------------------------------------------------------------------\u001b[39m",
      "\u001b[31mZeroDivisionError\u001b[39m                         Traceback (most recent call last)",
      "\u001b[36mCell\u001b[39m\u001b[36m \u001b[39m\u001b[32mIn[123]\u001b[39m\u001b[32m, line 1\u001b[39m\n\u001b[32m----> \u001b[39m\u001b[32m1\u001b[39m \u001b[38;5;28mprint\u001b[39m(\u001b[33m\"\u001b[39m\u001b[33mAverage max temperature:\u001b[39m\u001b[33m\"\u001b[39m,\u001b[38;5;28;43msum\u001b[39;49m\u001b[43m(\u001b[49m\u001b[43mmax_temperatures\u001b[49m\u001b[43m)\u001b[49m\u001b[43m/\u001b[49m\u001b[38;5;28;43mlen\u001b[39;49m\u001b[43m(\u001b[49m\u001b[43mmax_temperatures\u001b[49m\u001b[43m)\u001b[49m)\n\u001b[32m      2\u001b[39m \u001b[38;5;28mprint\u001b[39m(\u001b[33m\"\u001b[39m\u001b[33mAverage min temperature:\u001b[39m\u001b[33m\"\u001b[39m,\u001b[38;5;28msum\u001b[39m(min_temperatures)/\u001b[38;5;28mlen\u001b[39m(min_temperatures))\n\u001b[32m      3\u001b[39m \u001b[38;5;28mprint\u001b[39m(\u001b[33m\"\u001b[39m\u001b[33mTotal precipitation:\u001b[39m\u001b[33m\"\u001b[39m,\u001b[38;5;28msum\u001b[39m(precipitation) )\n",
      "\u001b[31mZeroDivisionError\u001b[39m: division by zero"
     ]
    }
   ],
   "source": [
    "print(\"Average max temperature:\",sum(max_temperatures)/len(max_temperatures))\n",
    "print(\"Average min temperature:\",sum(min_temperatures)/len(min_temperatures))\n",
    "print(\"Total precipitation:\",sum(precipitation) )"
   ]
  },
  {
   "cell_type": "code",
   "execution_count": 84,
   "id": "25365518",
   "metadata": {},
   "outputs": [
    {
     "name": "stdout",
     "output_type": "stream",
     "text": [
      "Precepitation days: 8\n"
     ]
    }
   ],
   "source": [
    "num_precipitation = 0\n",
    "for precip in precipitation:\n",
    "    if precip > 0:\n",
    "        num_precipitation += 1\n",
    "print(\"Precepitation days:\", num_precipitation)"
   ]
  },
  {
   "cell_type": "code",
   "execution_count": 88,
   "id": "da36ba3c",
   "metadata": {},
   "outputs": [
    {
     "name": "stdout",
     "output_type": "stream",
     "text": [
      "Max temperature 19.0\n"
     ]
    }
   ],
   "source": [
    "Max = max(max_temperatures)\n",
    "print('Max temperature', Max)"
   ]
  },
  {
   "cell_type": "code",
   "execution_count": 89,
   "id": "864887cf",
   "metadata": {},
   "outputs": [
    {
     "name": "stdout",
     "output_type": "stream",
     "text": [
      "Min temperature 1.0\n"
     ]
    }
   ],
   "source": [
    "Min = min(min_temperatures)\n",
    "print('Min temperature', Min)"
   ]
  },
  {
   "cell_type": "code",
   "execution_count": 156,
   "id": "68077bb9",
   "metadata": {},
   "outputs": [],
   "source": [
    "def analyse_weather_data(weather_data):\n",
    "    \"\"\" Analyzes weather data from a given file.\n",
    "    Args: \n",
    "        Filename: The name of the weather data file.\n",
    "    Returns:\n",
    "        A tuple containing:\n",
    "            - Average maximum temperature\n",
    "            - Average minimum temperature\n",
    "            - Total precipitation\n",
    "            - Number of rainy days\n",
    "            - Maximum temperature\n",
    "            - Minimum temperature\"\"\"\n",
    "    Date =[]\n",
    "    max_temperatures =[]\n",
    "    min_temperatures = []\n",
    "    precipitation = []\n",
    "    Num_precipitation_days = 0\n",
    "    for line in lines[0:]:\n",
    "        weather_data = line.strip().split(\",\")\n",
    "        Date.append(weather_data[0])\n",
    "        max_temperatures.append(float(weather_data[1]))\n",
    "        min_temperatures.append(float(weather_data[2]))\n",
    "        precipitation.append(float(weather_data[3]))\n",
    "        if float(weather_data[3])>0:\n",
    "            Num_precipitation_days += 1\n",
    "        Avg_Max_Temp= sum(max_temperatures)/len(max_temperatures)\n",
    "        Avg_Min_Temp= sum(min_temperatures)/len(min_temperatures)\n",
    "        Tot_Precipitation= sum(precipitation)\n",
    "        Max_Temp = max(max_temperatures)\n",
    "        Min_temp = min(min_temperatures)\n",
    "    return {\n",
    "            \"Average Max Temperature\":Avg_Max_Temp,\n",
    "            \"Average min temperature\":Avg_Min_Temp, \n",
    "            \"Total Precipitation\": Tot_Precipitation,\n",
    "            \"Max temperature\": Max_Temp,\n",
    "            \"Min temperature\": Min_temp, \n",
    "            \"Numbre precipitation days\": Num_precipitation_days}\n"
   ]
  },
  {
   "cell_type": "code",
   "execution_count": 157,
   "id": "578572f5",
   "metadata": {},
   "outputs": [],
   "source": [
    "weather_data='weather_data.txt'"
   ]
  },
  {
   "cell_type": "code",
   "execution_count": 158,
   "id": "53d788f6",
   "metadata": {},
   "outputs": [
    {
     "name": "stdout",
     "output_type": "stream",
     "text": [
      "{'Average Max Temperature': 15.2, 'Average min temperature': 5.1, 'Total Precipitation': 9.8, 'Max temperature': 19.0, 'Min temperature': 1.0, 'Numbre precipitation days': 8}\n"
     ]
    }
   ],
   "source": [
    "Result= analyse_weather_data(weather_data)\n",
    "print(Result)"
   ]
  }
 ],
 "metadata": {
  "kernelspec": {
   "display_name": "Python 3",
   "language": "python",
   "name": "python3"
  },
  "language_info": {
   "codemirror_mode": {
    "name": "ipython",
    "version": 3
   },
   "file_extension": ".py",
   "mimetype": "text/x-python",
   "name": "python",
   "nbconvert_exporter": "python",
   "pygments_lexer": "ipython3",
   "version": "3.13.8"
  }
 },
 "nbformat": 4,
 "nbformat_minor": 5
}
